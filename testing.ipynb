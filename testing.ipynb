{
 "cells": [
  {
   "cell_type": "code",
   "execution_count": 1,
   "metadata": {},
   "outputs": [
    {
     "name": "stderr",
     "output_type": "stream",
     "text": [
      "Exception in Tkinter callback\n",
      "Traceback (most recent call last):\n",
      "  File \"/opt/anaconda3/lib/python3.11/tkinter/__init__.py\", line 1948, in __call__\n",
      "    return self.func(*args)\n",
      "           ^^^^^^^^^^^^^^^^\n",
      "  File \"/Users/applelaptop/CODE/GUIAutoCrop/lib/crop_window.py\", line 147, in show_image\n",
      "    k=self.config[\"k\"],\n",
      "      ~~~~~~~~~~~^^^^^\n",
      "TypeError: 'NoneType' object is not subscriptable\n"
     ]
    }
   ],
   "source": [
    "path = '/Users/applelaptop/QUINT_WD/PawtyAnimal5/MC/stitched/slide21.tif'\n",
    "\n",
    "from lib.crop_window import CropWindow\n",
    "from lib.image_data import ImageData\n",
    "from tkinter import *\n",
    "import json\n",
    "\n",
    "with open(\"config.json\", \"rb\") as fi:\n",
    "    config = json.load(fi)\n",
    "thresh = None\n",
    "idata = ImageData()\n",
    "root = Tk()\n",
    "app = CropWindow(root=root,\n",
    "                 image_path=path,\n",
    "                 update_callable=lambda image_data: print('update callable called'),\n",
    "                 image_data=idata,\n",
    "                 config=config)\n",
    "\n",
    "root.mainloop()"
   ]
  },
  {
   "cell_type": "code",
   "execution_count": 8,
   "metadata": {},
   "outputs": [
    {
     "data": {
      "text/plain": [
       "False"
      ]
     },
     "execution_count": 8,
     "metadata": {},
     "output_type": "execute_result"
    }
   ],
   "source": [
    "idata.brs is None"
   ]
  },
  {
   "cell_type": "code",
   "execution_count": null,
   "metadata": {},
   "outputs": [],
   "source": []
  }
 ],
 "metadata": {
  "kernelspec": {
   "display_name": "base",
   "language": "python",
   "name": "python3"
  },
  "language_info": {
   "codemirror_mode": {
    "name": "ipython",
    "version": 3
   },
   "file_extension": ".py",
   "mimetype": "text/x-python",
   "name": "python",
   "nbconvert_exporter": "python",
   "pygments_lexer": "ipython3",
   "version": "3.11.0"
  }
 },
 "nbformat": 4,
 "nbformat_minor": 2
}
