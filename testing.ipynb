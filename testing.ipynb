{
 "cells": [
  {
   "cell_type": "code",
   "execution_count": 2,
   "metadata": {},
   "outputs": [
    {
     "name": "stdout",
     "output_type": "stream",
     "text": [
      "DARK bg: threshold=18\n",
      "Rectangle(xy=(3249.64, 725.177), width=96.6135, height=233.483, angle=0)\n",
      "Rectangle(xy=(3249.64, 725.177), width=346.198, height=611.886, angle=0)\n",
      "Rectangle(xy=(3249.64, 725.177), width=378.403, height=660.192, angle=0)\n",
      "Rectangle(xy=(3249.64, 725.177), width=378.403, height=708.499, angle=0)\n",
      "Rectangle(xy=(3249.64, 725.177), width=370.352, height=764.857, angle=0)\n",
      "Rectangle(xy=(3249.64, 725.177), width=370.352, height=772.908, angle=0)\n",
      "Rectangle(xy=(3249.64, 725.177), width=370.352, height=780.959, angle=0)\n",
      "Rectangle(xy=(3249.64, 725.177), width=354.25, height=797.062, angle=0)\n",
      "NEW RECT (3250, 725, 3604, 1522)\n",
      "[(3176, -45, 5163, 2204), (176, 291, 1012, 1197), (4087, 764, 4673, 1869), (2702, 628, 3207, 1899), (1, 1592, 655, 2543), (929, 846, 1466, 1552), (1314, 296, 1826, 1136), (-45, -29, 428, 966), (1701, 957, 2206, 1740), (2121, 386, 2551, 1160), (3250, 725, 3604, 1522)]\n"
     ]
    }
   ],
   "source": [
    "path = '/Users/applelaptop/QUINT_WD/PawtyAnimal5/MC/stitched/slide21.tif'\n",
    "\n",
    "from lib.crop_window import CropWindow\n",
    "from lib.image_data import ImageData\n",
    "from tkinter import *\n",
    "import json\n",
    "\n",
    "with open(\"config.json\", \"rb\") as fi:\n",
    "    config = json.load(fi)\n",
    "thresh = None\n",
    "idata = ImageData()\n",
    "root = Tk()\n",
    "\n",
    "def debug(new):\n",
    "    idata = new\n",
    "app = CropWindow(root=root,\n",
    "                 image_path=path,\n",
    "                 update_callable=lambda image_data: debug(image_data),\n",
    "                 image_data=idata,\n",
    "                 cfg=config)\n",
    "\n",
    "root.mainloop()"
   ]
  },
  {
   "cell_type": "code",
   "execution_count": 6,
   "metadata": {},
   "outputs": [
    {
     "data": {
      "text/plain": [
       "ImageData([('image_id', ''), ('thresh', None), ('brs', []), ('crop_indices', []), ('padding', 50)])"
      ]
     },
     "execution_count": 6,
     "metadata": {},
     "output_type": "execute_result"
    }
   ],
   "source": [
    "idata"
   ]
  },
  {
   "cell_type": "code",
   "execution_count": null,
   "metadata": {},
   "outputs": [],
   "source": []
  }
 ],
 "metadata": {
  "kernelspec": {
   "display_name": "base",
   "language": "python",
   "name": "python3"
  },
  "language_info": {
   "codemirror_mode": {
    "name": "ipython",
    "version": 3
   },
   "file_extension": ".py",
   "mimetype": "text/x-python",
   "name": "python",
   "nbconvert_exporter": "python",
   "pygments_lexer": "ipython3",
   "version": "3.11.0"
  }
 },
 "nbformat": 4,
 "nbformat_minor": 2
}
