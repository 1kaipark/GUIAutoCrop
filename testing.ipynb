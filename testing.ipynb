{
 "cells": [
  {
   "cell_type": "code",
   "execution_count": 1,
   "metadata": {},
   "outputs": [
    {
     "ename": "SyntaxError",
     "evalue": "invalid syntax (1333636459.py, line 15)",
     "output_type": "error",
     "traceback": [
      "\u001b[0;36m  Cell \u001b[0;32mIn[1], line 15\u001b[0;36m\u001b[0m\n\u001b[0;31m    update_callable=lambda image_data: idata=image_data,\u001b[0m\n\u001b[0m                                            ^\u001b[0m\n\u001b[0;31mSyntaxError\u001b[0m\u001b[0;31m:\u001b[0m invalid syntax\n"
     ]
    }
   ],
   "source": [
    "path = '/Users/applelaptop/QUINT_WD/PawtyAnimal5/MC/stitched/slide21.tif'\n",
    "\n",
    "from lib.crop_window import CropWindow\n",
    "from lib.image_data import ImageData\n",
    "from tkinter import *\n",
    "import json\n",
    "\n",
    "with open(\"config.json\", \"rb\") as fi:\n",
    "    config = json.load(fi)\n",
    "thresh = None\n",
    "idata = ImageData()\n",
    "root = Tk()\n",
    "\n",
    "def debug(new):\n",
    "    idata = new\n",
    "app = CropWindow(root=root,\n",
    "                 image_path=path,\n",
    "                 update_callable=lambda image_data: debug(image_data),\n",
    "                 image_data=idata,\n",
    "                 cfg=config)\n",
    "\n",
    "root.mainloop()"
   ]
  },
  {
   "cell_type": "code",
   "execution_count": null,
   "metadata": {},
   "outputs": [
    {
     "data": {
      "text/plain": [
       "ImageData([('image_id', ''), ('thresh', None), ('brs', []), ('crop_indices', []), ('padding', 50)])"
      ]
     },
     "execution_count": 3,
     "metadata": {},
     "output_type": "execute_result"
    }
   ],
   "source": [
    "idata"
   ]
  },
  {
   "cell_type": "code",
   "execution_count": null,
   "metadata": {},
   "outputs": [],
   "source": []
  }
 ],
 "metadata": {
  "kernelspec": {
   "display_name": "base",
   "language": "python",
   "name": "python3"
  },
  "language_info": {
   "codemirror_mode": {
    "name": "ipython",
    "version": 3
   },
   "file_extension": ".py",
   "mimetype": "text/x-python",
   "name": "python",
   "nbconvert_exporter": "python",
   "pygments_lexer": "ipython3",
   "version": "3.11.0"
  }
 },
 "nbformat": 4,
 "nbformat_minor": 2
}
