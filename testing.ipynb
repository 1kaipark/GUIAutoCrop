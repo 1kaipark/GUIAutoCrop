{
 "cells": [
  {
   "cell_type": "code",
   "execution_count": 1,
   "metadata": {},
   "outputs": [
    {
     "name": "stdout",
     "output_type": "stream",
     "text": [
      "DARK bg: threshold=6\n"
     ]
    }
   ],
   "source": [
    "path = '/Users/applelaptop/CODE/GUIAutoCrop/Slide08-blue-1-3s-red-1-5s_Overlay.tif'\n",
    "\n",
    "from lib.crop_window import CropWindow\n",
    "from lib.image_data import ImageData\n",
    "from tkinter import *\n",
    "import json\n",
    "\n",
    "with open(\"config.json\", \"rb\") as fi:\n",
    "    config = json.load(fi)\n",
    "thresh = None\n",
    "idata = ImageData()\n",
    "root = Tk()\n",
    "\n",
    "def debug(new):\n",
    "    idata = new\n",
    "app = CropWindow(root=root,\n",
    "                 image_path=path,\n",
    "                 update_callable=lambda image_data: debug(image_data),\n",
    "                 image_data=idata,\n",
    "                 cfg=config)\n",
    "\n",
    "root.mainloop()"
   ]
  },
  {
   "cell_type": "code",
   "execution_count": 3,
   "metadata": {},
   "outputs": [
    {
     "data": {
      "text/plain": [
       "ImageData([('image_id', ''), ('thresh', None), ('brs', []), ('crop_indices', []), ('padding', 50)])"
      ]
     },
     "execution_count": 3,
     "metadata": {},
     "output_type": "execute_result"
    },
    {
     "ename": "",
     "evalue": "",
     "output_type": "error",
     "traceback": [
      "\u001b[1;31mThe Kernel crashed while executing code in the current cell or a previous cell. \n",
      "\u001b[1;31mPlease review the code in the cell(s) to identify a possible cause of the failure. \n",
      "\u001b[1;31mClick <a href='https://aka.ms/vscodeJupyterKernelCrash'>here</a> for more info. \n",
      "\u001b[1;31mView Jupyter <a href='command:jupyter.viewOutput'>log</a> for further details."
     ]
    }
   ],
   "source": [
    "idata"
   ]
  },
  {
   "cell_type": "code",
   "execution_count": null,
   "metadata": {},
   "outputs": [],
   "source": []
  }
 ],
 "metadata": {
  "kernelspec": {
   "display_name": "base",
   "language": "python",
   "name": "python3"
  },
  "language_info": {
   "codemirror_mode": {
    "name": "ipython",
    "version": 3
   },
   "file_extension": ".py",
   "mimetype": "text/x-python",
   "name": "python",
   "nbconvert_exporter": "python",
   "pygments_lexer": "ipython3",
   "version": "3.11.0"
  }
 },
 "nbformat": 4,
 "nbformat_minor": 2
}
