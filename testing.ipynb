{
 "cells": [
  {
   "cell_type": "code",
   "execution_count": 1,
   "metadata": {},
   "outputs": [
    {
     "name": "stdout",
     "output_type": "stream",
     "text": [
      "DARK bg: threshold=18\n",
      "update callable called\n",
      "Rectangle(xy=(3185.23, 709.074), width=249.585, height=668.244, angle=0)\n",
      "Rectangle(xy=(3185.23, 709.074), width=289.841, height=732.653, angle=0)\n",
      "Rectangle(xy=(3185.23, 709.074), width=330.096, height=789.01, angle=0)\n",
      "NEW RECT (3185, 709, 3515, 1498)\n",
      "[(3176, -45, 5163, 2204), (176, 291, 1012, 1197), (4087, 764, 4673, 1869), (2702, 628, 3207, 1899), (1, 1592, 655, 2543), (929, 846, 1466, 1552), (1314, 296, 1826, 1136), (-45, -29, 428, 966), (1701, 957, 2206, 1740), (2121, 386, 2551, 1160), (3185, 709, 3515, 1498)]\n",
      "update callable called\n",
      "Rectangle(xy=(3579.73, 733.228), width=386.454, height=780.959, angle=0)\n",
      "Rectangle(xy=(3579.73, 733.228), width=410.607, height=805.113, angle=0)\n",
      "NEW RECT (3580, 733, 3990, 1538)\n",
      "[(3176, -45, 5163, 2204), (176, 291, 1012, 1197), (4087, 764, 4673, 1869), (2702, 628, 3207, 1899), (1, 1592, 655, 2543), (929, 846, 1466, 1552), (1314, 296, 1826, 1136), (-45, -29, 428, 966), (1701, 957, 2206, 1740), (2121, 386, 2551, 1160), (3185, 709, 3515, 1498), (3580, 733, 3990, 1538)]\n",
      "update callable called\n",
      "will attempt to crop image of size (2498, 5118, 3) into 12 rects.\n",
      "2 images cropped\n",
      "update callable called\n"
     ]
    }
   ],
   "source": [
    "path = '/Users/applelaptop/QUINT_WD/PawtyAnimal5/MC/stitched/slide21.tif'\n",
    "\n",
    "from lib.crop_window import CropWindow\n",
    "from lib.image_data import ImageData\n",
    "from tkinter import *\n",
    "import json\n",
    "\n",
    "with open(\"config.json\", \"rb\") as fi:\n",
    "    config = json.load(fi)\n",
    "thresh = None\n",
    "idata = ImageData()\n",
    "root = Tk()\n",
    "app = CropWindow(root=root,\n",
    "                 image_path=path,\n",
    "                 update_callable=lambda image_data: print('update callable called'),\n",
    "                 image_data=idata,\n",
    "                 cfg=config)\n",
    "\n",
    "root.mainloop()"
   ]
  },
  {
   "cell_type": "code",
   "execution_count": 3,
   "metadata": {},
   "outputs": [
    {
     "data": {
      "text/plain": [
       "ImageData([('image_id', ''), ('thresh', None), ('brs', []), ('crop_indices', []), ('padding', 50)])"
      ]
     },
     "execution_count": 3,
     "metadata": {},
     "output_type": "execute_result"
    }
   ],
   "source": [
    "idata"
   ]
  },
  {
   "cell_type": "code",
   "execution_count": null,
   "metadata": {},
   "outputs": [],
   "source": []
  }
 ],
 "metadata": {
  "kernelspec": {
   "display_name": "base",
   "language": "python",
   "name": "python3"
  },
  "language_info": {
   "codemirror_mode": {
    "name": "ipython",
    "version": 3
   },
   "file_extension": ".py",
   "mimetype": "text/x-python",
   "name": "python",
   "nbconvert_exporter": "python",
   "pygments_lexer": "ipython3",
   "version": "3.11.0"
  }
 },
 "nbformat": 4,
 "nbformat_minor": 2
}
