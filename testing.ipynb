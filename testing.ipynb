{
 "cells": [
  {
   "cell_type": "code",
   "execution_count": 1,
   "metadata": {},
   "outputs": [
    {
     "name": "stdout",
     "output_type": "stream",
     "text": [
      "DARK bg: threshold=10\n",
      "[(196, -47, 3775, 1578), (2103, 1080, 3433, 1946), (4425, 1157, 5753, 1945), (4544, 118, 5769, 896), (-47, 1534, 290, 2083), (4448, 1667, 4795, 1917), (4660, 719, 5094, 982), (4632, 1769, 4997, 1934), (2003, 1516, 2175, 1702), (-16, 262, 159, 449), (179, 864, 1537, 1594)]\n",
      "[(196, -47, 3775, 1578), (2103, 1080, 3433, 1946), (4425, 1157, 5753, 1945), (4544, 118, 5769, 896), (-47, 1534, 290, 2083), (4448, 1667, 4795, 1917), (4660, 719, 5094, 982), (4632, 1769, 4997, 1934), (2003, 1516, 2175, 1702), (-16, 262, 159, 449), (179, 864, 1537, 1594), (375, 68, 1827, 920)]\n",
      "[(196, -47, 3775, 1578), (2103, 1080, 3433, 1946), (4425, 1157, 5753, 1945), (4544, 118, 5769, 896), (-47, 1534, 290, 2083), (4448, 1667, 4795, 1917), (4660, 719, 5094, 982), (4632, 1769, 4997, 1934), (2003, 1516, 2175, 1702), (-16, 262, 159, 449), (179, 864, 1537, 1594), (375, 68, 1827, 920), (2164, 68, 3560, 929)]\n"
     ]
    }
   ],
   "source": [
    "path = '/Users/applelaptop/CODE/GUIAutoCrop/Slide08-blue-1-3s-red-1-5s_Overlay.tif'\n",
    "\n",
    "from lib.crop_window import CropWindow\n",
    "from lib.image_data import ImageData\n",
    "from tkinter import *\n",
    "import json\n",
    "\n",
    "with open(\"config.json\", \"rb\") as fi:\n",
    "    config = json.load(fi)\n",
    "thresh = None\n",
    "idata = ImageData()\n",
    "root = Tk()\n",
    "\n",
    "def debug(new):\n",
    "    idata = new\n",
    "app = CropWindow(root=root,\n",
    "                 image_path=path,\n",
    "                 update_callable=lambda image_data: debug(image_data),\n",
    "                 image_data=idata,\n",
    "                 cfg=config)\n",
    "\n",
    "root.mainloop()"
   ]
  },
  {
   "cell_type": "code",
   "execution_count": 3,
   "metadata": {},
   "outputs": [
    {
     "data": {
      "text/plain": [
       "ImageData([('image_id', ''), ('thresh', None), ('brs', []), ('crop_indices', []), ('padding', 50)])"
      ]
     },
     "execution_count": 3,
     "metadata": {},
     "output_type": "execute_result"
    }
   ],
   "source": [
    "idata"
   ]
  },
  {
   "cell_type": "code",
   "execution_count": null,
   "metadata": {},
   "outputs": [],
   "source": []
  }
 ],
 "metadata": {
  "kernelspec": {
   "display_name": "base",
   "language": "python",
   "name": "python3"
  },
  "language_info": {
   "codemirror_mode": {
    "name": "ipython",
    "version": 3
   },
   "file_extension": ".py",
   "mimetype": "text/x-python",
   "name": "python",
   "nbconvert_exporter": "python",
   "pygments_lexer": "ipython3",
   "version": "3.11.0"
  }
 },
 "nbformat": 4,
 "nbformat_minor": 2
}
